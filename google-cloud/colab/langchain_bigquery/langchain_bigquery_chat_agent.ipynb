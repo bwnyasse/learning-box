{
  "cells": [
    {
      "cell_type": "code",
      "execution_count": null,
      "metadata": {},
      "outputs": [],
      "source": [
        "# Learning Box - Google Cloud - Colab\n",
        "# Copyright 2023 Boris-Wilfried\n",
        "#\n",
        "# This Google Colab notebook is part of my \"Learning Box\" github repository, created for my learning purposes. \n",
        "# It is not designed for production use. \n",
        "# This notebook may serve as an inspiration or a starting point for your own explorations.\n",
        "# For any queries, suggestions, or contributions, feel free to reach out to me on GitHub: https://github.com/bwnyasse"
      ]
    },
    {
      "cell_type": "markdown",
      "metadata": {
        "colab_type": "text",
        "id": "view-in-github"
      },
      "source": [
        "<a href=\"https://colab.research.google.com/github/bwnyasse/learning-box/blob/main/google-cloud/colab/langchain_bigquery/langchain_bigquery_chat_agent.ipynb\" target=\"_parent\"><img src=\"https://colab.research.google.com/assets/colab-badge.svg\" alt=\"Open In Colab\"/></a>"
      ]
    },
    {
      "cell_type": "markdown",
      "metadata": {
        "id": "DmC5pcouOMao"
      },
      "source": [
        "# **Using LangChain and GPT to chat with BigQuery data**\n",
        "\n",
        "---\n",
        "\n",
        "In this Colab, I want to demonstrate how to use LangChain and OpenAI GPT for querying data from Google BigQuery."
      ]
    },
    {
      "cell_type": "markdown",
      "metadata": {
        "id": "hoRDXVtJ8DLb"
      },
      "source": [
        "## 📒 Before I begin.\n",
        "\n",
        "\n",
        "\n",
        "\n",
        "\n",
        "\n"
      ]
    },
    {
      "cell_type": "markdown",
      "metadata": {
        "id": "7Ywkn4-oPaZy"
      },
      "source": [
        "#### Setup Google Cloud Project.\n",
        "\n",
        "1.   Create a Cloud Platform project if you do not already have one.\n",
        "2.   Enable billing for the project.\n",
        "3.   Enable BigQuery APIs for the project."
      ]
    },
    {
      "cell_type": "markdown",
      "metadata": {
        "id": "ICZc-6sNPhDR"
      },
      "source": [
        "### Authentication and service account.\n",
        "\n",
        "1. Create a service account if you do not already have one, with the following Bigquery Roles:\n",
        "\n",
        "  *  BigQuery User\n",
        "  *  BigQuery Data Viewer\n",
        "  *  BigQuery Job User\n",
        "\n",
        "\n",
        "2. Download the service account key json and put it `/content/sa-keys/sa-langchain-test-over-bigquery.json`"
      ]
    },
    {
      "cell_type": "markdown",
      "metadata": {
        "id": "zOdHYd3sNKOL"
      },
      "source": [
        "## 🐍 Getting Started"
      ]
    },
    {
      "cell_type": "markdown",
      "metadata": {
        "id": "E_4f3dptQGSX"
      },
      "source": [
        "### Installation of required libraries."
      ]
    },
    {
      "cell_type": "code",
      "execution_count": null,
      "metadata": {
        "colab": {
          "base_uri": "https://localhost:8080/"
        },
        "id": "ivKWo3td8DvW",
        "outputId": "a02fd4bd-3818-44ca-8432-8598ac966953"
      },
      "outputs": [],
      "source": [
        "!pip install langchain openai chromadb tiktoken tabulate sqlalchemy sqlalchemy-bigquery google-cloud-bigquery &> /dev/null"
      ]
    },
    {
      "cell_type": "markdown",
      "metadata": {
        "id": "dwMZS21K8gGe"
      },
      "source": [
        "### Importing libraries."
      ]
    },
    {
      "cell_type": "code",
      "execution_count": 4,
      "metadata": {
        "id": "h1ET8RCA9A3_"
      },
      "outputs": [],
      "source": [
        "from google.colab import userdata\n",
        "from google.cloud import bigquery\n",
        "from sqlalchemy import *\n",
        "from sqlalchemy.engine import create_engine\n",
        "from sqlalchemy.schema import *\n",
        "import os\n",
        "from langchain.agents import create_sql_agent\n",
        "from langchain.agents.agent_toolkits import SQLDatabaseToolkit\n",
        "from langchain.sql_database import SQLDatabase\n",
        "from langchain.llms.openai import OpenAI\n",
        "from langchain.agents import AgentExecutor"
      ]
    },
    {
      "cell_type": "markdown",
      "metadata": {
        "id": "N75wW1dT8j0c"
      },
      "source": [
        "## 🔐 Authenticate"
      ]
    },
    {
      "cell_type": "markdown",
      "metadata": {
        "id": "GAeuvsWqQjQj"
      },
      "source": [
        "### BigQuery Service Account : Option 1"
      ]
    },
    {
      "cell_type": "code",
      "execution_count": 5,
      "metadata": {
        "id": "1qFyA9jA91Y-"
      },
      "outputs": [],
      "source": [
        "# Option 1: For Personal Use (with Google Drive)\n",
        "# Uncomment the following lines if you have stored your service account key in Google Drive.\n",
        "# This is how I, the author, personally use it for demonstration purposes.\n",
        "# from google.colab import drive\n",
        "# drive.mount('/content/gdrive')\n",
        "# service_account_file = \"/content/gdrive/MyDrive/Colab Notebooks/sa-keys/sa-langchain-test-over-bigquery.json\""
      ]
    },
    {
      "cell_type": "markdown",
      "metadata": {},
      "source": [
        "### BigQuery Service Account : Option 2"
      ]
    },
    {
      "cell_type": "code",
      "execution_count": null,
      "metadata": {},
      "outputs": [],
      "source": [
        "# Option 2: General User Setup\n",
        "# Uncomment and use the following line if you have placed your service account key in the /content directory of this Colab notebook.\n",
        "# This is the recommended way for general users who are following the instructions from the documentation.\n",
        "# service_account_file = \"/content/sa-keys/sa-langchain-test-over-bigquery.json\""
      ]
    },
    {
      "cell_type": "markdown",
      "metadata": {
        "id": "toYpccLj-1UN"
      },
      "source": [
        "### OpenAI API Key\n",
        "\n",
        "In order to interact with OpenAI's GPT models, you need to have an OpenAI API key. Here's how you can set it up:\n",
        "\n",
        "1. **Generate an OpenAI API Key**: If you don't have one, you need to create an API key from your OpenAI account. Visit the OpenAI website, log in to your account, and navigate to the API section to generate a new key.\n",
        "\n",
        "2. **Storing the OpenAI API Key**: For the purpose of this Colab notebook, store your OpenAI API key in a secure location. If you are using Google Colab's secret section for sensitive data, you can add your key there. Alternatively, you can store it in an environment variable or a secure file within the Colab file system."
      ]
    },
    {
      "cell_type": "code",
      "execution_count": 8,
      "metadata": {
        "id": "q7u5Qvb8-t0B"
      },
      "outputs": [],
      "source": [
        "from google.colab import auth\n",
        "auth.authenticate_user()\n",
        "\n",
        "# Use the following line to access your secret key (replace 'your_secret_key_name' with the actual name of your key)\n",
        "# openai_key = 'your_secret_key'  # Replace with the name of your key in the secret section\n",
        "openai_key = userdata.get('openAiApiKey')\n",
        "os.environ[\"OPENAI_API_KEY\"] = openai_key"
      ]
    },
    {
      "cell_type": "markdown",
      "metadata": {
        "id": "n6k0ahR7-nfQ"
      },
      "source": [
        "## 💻 SQL Achemy Configuration"
      ]
    },
    {
      "cell_type": "code",
      "execution_count": 6,
      "metadata": {
        "id": "xfzyWtjV-rmk"
      },
      "outputs": [],
      "source": [
        "# Configuration\n",
        "project = \"learning-box-369917\"\n",
        "dataset = \"langchain_test\"\n",
        "table = \"churn_table\"\n",
        "sqlalchemy_url = f'bigquery://{project}/{dataset}?credentials_path={service_account_file}'"
      ]
    },
    {
      "cell_type": "markdown",
      "metadata": {
        "id": "rbNvTCLxHdHq"
      },
      "source": [
        "## 🔗 Initialize LangChain\n",
        "\n",
        "Set up the LangChain with the specified configurations to prepare for executing queries.\n"
      ]
    },
    {
      "cell_type": "code",
      "execution_count": 9,
      "metadata": {
        "id": "4KwaC_3wHeaA"
      },
      "outputs": [],
      "source": [
        "db = SQLDatabase.from_uri(sqlalchemy_url)\n",
        "llm = OpenAI(temperature=0, model=\"text-davinci-003\")\n",
        "toolkit = SQLDatabaseToolkit(db=db, llm=llm)\n",
        "agent_executor = create_sql_agent(\n",
        "    llm=llm,\n",
        "    toolkit=toolkit,\n",
        "    verbose=True,\n",
        "    top_k=1000,\n",
        ")"
      ]
    },
    {
      "cell_type": "markdown",
      "metadata": {
        "id": "ke6_go_JH5BL"
      },
      "source": [
        "## 💬 Chat : Execute and Display Queries\n",
        "\n",
        "Execute sample queries using the LangChain agent and display the responses.\n"
      ]
    },
    {
      "cell_type": "code",
      "execution_count": 11,
      "metadata": {
        "cellView": "form",
        "colab": {
          "base_uri": "https://localhost:8080/",
          "height": 948
        },
        "id": "j81KAq15H6TF",
        "outputId": "14ddcfb5-1772-47e6-d0ee-e05e7d0188ae"
      },
      "outputs": [
        {
          "name": "stdout",
          "output_type": "stream",
          "text": [
            "\n",
            "\n",
            "\u001b[1m> Entering new AgentExecutor chain...\u001b[0m\n",
            "\u001b[32;1m\u001b[1;3mThought: I should check the query before executing it.\n",
            "Action: sql_db_list_tables\n",
            "Action Input: \"\"\u001b[0m\n",
            "Observation: \u001b[38;5;200m\u001b[1;3mchurn_table\u001b[0m\n",
            "Thought:\u001b[32;1m\u001b[1;3m I should query the schema of the churn_table\n",
            "Action: sql_db_schema\n",
            "Action Input: churn_table\u001b[0m\n",
            "Observation: \u001b[33;1m\u001b[1;3m\n",
            "CREATE TABLE `churn_table` (\n",
            "\t`customerID` STRING, \n",
            "\t`gender` STRING, \n",
            "\t`SeniorCitizen` INT64, \n",
            "\t`Partner` BOOL, \n",
            "\t`Dependents` BOOL, \n",
            "\t`tenure` INT64, \n",
            "\t`PhoneService` BOOL, \n",
            "\t`MultipleLines` STRING, \n",
            "\t`InternetService` STRING, \n",
            "\t`OnlineSecurity` STRING, \n",
            "\t`OnlineBackup` STRING, \n",
            "\t`DeviceProtection` STRING, \n",
            "\t`TechSupport` STRING, \n",
            "\t`StreamingTV` STRING, \n",
            "\t`StreamingMovies` STRING, \n",
            "\t`Contract` STRING, \n",
            "\t`PaperlessBilling` BOOL, \n",
            "\t`PaymentMethod` STRING, \n",
            "\t`MonthlyCharges` FLOAT64, \n",
            "\t`TotalCharges` STRING, \n",
            "\t`Churn` BOOL\n",
            ")\n",
            "\n",
            "/*\n",
            "3 rows from churn_table table:\n",
            "customerID\tgender\tSeniorCitizen\tPartner\tDependents\ttenure\tPhoneService\tMultipleLines\tInternetService\tOnlineSecurity\tOnlineBackup\tDeviceProtection\tTechSupport\tStreamingTV\tStreamingMovies\tContract\tPaperlessBilling\tPaymentMethod\tMonthlyCharges\tTotalCharges\tChurn\n",
            "9732-OUYRN\tFemale\t0\tTrue\tFalse\t49\tTrue\tNo\tNo\tNo internet service\tNo internet service\tNo internet service\tNo internet service\tNo internet service\tNo internet service\tOne year\tFalse\tCredit card (automatic)\t19.0\t918.7\tFalse\n",
            "0661-KQHNK\tFemale\t0\tTrue\tTrue\t6\tTrue\tNo\tNo\tNo internet service\tNo internet service\tNo internet service\tNo internet service\tNo internet service\tNo internet service\tOne year\tFalse\tCredit card (automatic)\t19.0\t105.5\tFalse\n",
            "4709-LKHYG\tFemale\t0\tTrue\tTrue\t29\tTrue\tNo\tNo\tNo internet service\tNo internet service\tNo internet service\tNo internet service\tNo internet service\tNo internet service\tOne year\tFalse\tElectronic check\t20.0\t540.05\tFalse\n",
            "*/\u001b[0m\n",
            "Thought:\u001b[32;1m\u001b[1;3m I should query the database for the number of users who churned and had internet service\n",
            "Action: sql_db_query\n",
            "Action Input: SELECT COUNT(*) FROM churn_table WHERE InternetService != 'No' AND Churn = True\u001b[0m\n",
            "Observation: \u001b[36;1m\u001b[1;3m[(1756,)]\u001b[0m\n",
            "Thought:\u001b[32;1m\u001b[1;3m I now know the final answer\n",
            "Final Answer: 1756 users churned which had internet service.\u001b[0m\n",
            "\n",
            "\u001b[1m> Finished chain.\u001b[0m\n"
          ]
        },
        {
          "data": {
            "application/vnd.google.colaboratory.intrinsic+json": {
              "type": "string"
            },
            "text/plain": [
              "'1756 users churned which had internet service.'"
            ]
          },
          "execution_count": 11,
          "metadata": {},
          "output_type": "execute_result"
        }
      ],
      "source": [
        "#@markdown Please fill in the value below with your request.\n",
        "\n",
        "# Please fill in these values.\n",
        "request = \"How many users churned which had internet service?\" #@param {type:\"string\"}\n",
        "\n",
        "# Quick input validations.\n",
        "assert request, \"⚠️ Please provide a request\"\n",
        "\n",
        "agent_executor.run({request})"
      ]
    }
  ],
  "metadata": {
    "colab": {
      "authorship_tag": "ABX9TyPtGI7ShCxf3Wb3LH3ik9tQ",
      "collapsed_sections": [
        "E_4f3dptQGSX"
      ],
      "include_colab_link": true,
      "provenance": [],
      "toc_visible": true
    },
    "kernelspec": {
      "display_name": "Python 3",
      "name": "python3"
    },
    "language_info": {
      "name": "python"
    }
  },
  "nbformat": 4,
  "nbformat_minor": 0
}
